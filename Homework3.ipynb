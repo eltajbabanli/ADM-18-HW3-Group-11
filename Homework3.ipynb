{
 "cells": [
  {
   "cell_type": "code",
   "execution_count": 1,
   "metadata": {},
   "outputs": [],
   "source": [
    "import pandas as pd\n",
    "import csv \n",
    "import nltk\n",
    "from nltk.corpus import stopwords\n",
    "import string\n",
    "from nltk.stem import PorterStemmer\n",
    "import math\n",
    "import numpy as np\n",
    "from scipy import spatial\n",
    "import heapq\n",
    "from geopy import distance\n",
    "import folium\n",
    "\n",
    "ps=PorterStemmer()"
   ]
  },
  {
   "cell_type": "markdown",
   "metadata": {},
   "source": [
    "First of all we read the dataframe:"
   ]
  },
  {
   "cell_type": "code",
   "execution_count": 2,
   "metadata": {},
   "outputs": [],
   "source": [
    "df = pd.read_csv(\"Airbnb_Texas_Rentals.csv\", encoding = 'latin-1')\n",
    "#df=df.drop('Unnamed: 0', axis=1)\n"
   ]
  },
  {
   "cell_type": "code",
   "execution_count": 3,
   "metadata": {},
   "outputs": [
    {
     "data": {
      "text/html": [
       "<div>\n",
       "<style scoped>\n",
       "    .dataframe tbody tr th:only-of-type {\n",
       "        vertical-align: middle;\n",
       "    }\n",
       "\n",
       "    .dataframe tbody tr th {\n",
       "        vertical-align: top;\n",
       "    }\n",
       "\n",
       "    .dataframe thead th {\n",
       "        text-align: right;\n",
       "    }\n",
       "</style>\n",
       "<table border=\"1\" class=\"dataframe\">\n",
       "  <thead>\n",
       "    <tr style=\"text-align: right;\">\n",
       "      <th></th>\n",
       "      <th>Unnamed: 0</th>\n",
       "      <th>average_rate_per_night</th>\n",
       "      <th>bedrooms_count</th>\n",
       "      <th>city</th>\n",
       "      <th>date_of_listing</th>\n",
       "      <th>description</th>\n",
       "      <th>latitude</th>\n",
       "      <th>longitude</th>\n",
       "      <th>title</th>\n",
       "      <th>url</th>\n",
       "    </tr>\n",
       "  </thead>\n",
       "  <tbody>\n",
       "    <tr>\n",
       "      <th>0</th>\n",
       "      <td>1</td>\n",
       "      <td>$27</td>\n",
       "      <td>2</td>\n",
       "      <td>Humble</td>\n",
       "      <td>May 2016</td>\n",
       "      <td>Welcome to stay in private room with queen bed...</td>\n",
       "      <td>30.020138</td>\n",
       "      <td>-95.293996</td>\n",
       "      <td>2 Private rooms/bathroom 10min from IAH airport</td>\n",
       "      <td>https://www.airbnb.com/rooms/18520444?location...</td>\n",
       "    </tr>\n",
       "    <tr>\n",
       "      <th>1</th>\n",
       "      <td>2</td>\n",
       "      <td>$149</td>\n",
       "      <td>4</td>\n",
       "      <td>San Antonio</td>\n",
       "      <td>November 2010</td>\n",
       "      <td>Stylish, fully remodeled home in upscale NW â...</td>\n",
       "      <td>29.503068</td>\n",
       "      <td>-98.447688</td>\n",
       "      <td>Unique Location! Alamo Heights - Designer Insp...</td>\n",
       "      <td>https://www.airbnb.com/rooms/17481455?location...</td>\n",
       "    </tr>\n",
       "    <tr>\n",
       "      <th>2</th>\n",
       "      <td>3</td>\n",
       "      <td>$59</td>\n",
       "      <td>1</td>\n",
       "      <td>Houston</td>\n",
       "      <td>January 2017</td>\n",
       "      <td>'River house on island close to the city' \\nA ...</td>\n",
       "      <td>29.829352</td>\n",
       "      <td>-95.081549</td>\n",
       "      <td>River house near the city</td>\n",
       "      <td>https://www.airbnb.com/rooms/16926307?location...</td>\n",
       "    </tr>\n",
       "    <tr>\n",
       "      <th>3</th>\n",
       "      <td>4</td>\n",
       "      <td>$60</td>\n",
       "      <td>1</td>\n",
       "      <td>Bryan</td>\n",
       "      <td>February 2016</td>\n",
       "      <td>Private bedroom in a cute little home situated...</td>\n",
       "      <td>30.637304</td>\n",
       "      <td>-96.337846</td>\n",
       "      <td>Private Room Close to Campus</td>\n",
       "      <td>https://www.airbnb.com/rooms/11839729?location...</td>\n",
       "    </tr>\n",
       "    <tr>\n",
       "      <th>4</th>\n",
       "      <td>5</td>\n",
       "      <td>$75</td>\n",
       "      <td>2</td>\n",
       "      <td>Fort Worth</td>\n",
       "      <td>February 2017</td>\n",
       "      <td>Welcome to our original 1920's home. We recent...</td>\n",
       "      <td>32.747097</td>\n",
       "      <td>-97.286434</td>\n",
       "      <td>The Porch</td>\n",
       "      <td>https://www.airbnb.com/rooms/17325114?location...</td>\n",
       "    </tr>\n",
       "  </tbody>\n",
       "</table>\n",
       "</div>"
      ],
      "text/plain": [
       "   Unnamed: 0 average_rate_per_night bedrooms_count         city  \\\n",
       "0           1                    $27              2       Humble   \n",
       "1           2                   $149              4  San Antonio   \n",
       "2           3                    $59              1      Houston   \n",
       "3           4                    $60              1        Bryan   \n",
       "4           5                    $75              2   Fort Worth   \n",
       "\n",
       "  date_of_listing                                        description  \\\n",
       "0        May 2016  Welcome to stay in private room with queen bed...   \n",
       "1   November 2010  Stylish, fully remodeled home in upscale NW â...   \n",
       "2    January 2017  'River house on island close to the city' \\nA ...   \n",
       "3   February 2016  Private bedroom in a cute little home situated...   \n",
       "4   February 2017  Welcome to our original 1920's home. We recent...   \n",
       "\n",
       "    latitude  longitude                                              title  \\\n",
       "0  30.020138 -95.293996    2 Private rooms/bathroom 10min from IAH airport   \n",
       "1  29.503068 -98.447688  Unique Location! Alamo Heights - Designer Insp...   \n",
       "2  29.829352 -95.081549                          River house near the city   \n",
       "3  30.637304 -96.337846                       Private Room Close to Campus   \n",
       "4  32.747097 -97.286434                                          The Porch   \n",
       "\n",
       "                                                 url  \n",
       "0  https://www.airbnb.com/rooms/18520444?location...  \n",
       "1  https://www.airbnb.com/rooms/17481455?location...  \n",
       "2  https://www.airbnb.com/rooms/16926307?location...  \n",
       "3  https://www.airbnb.com/rooms/11839729?location...  \n",
       "4  https://www.airbnb.com/rooms/17325114?location...  "
      ]
     },
     "execution_count": 3,
     "metadata": {},
     "output_type": "execute_result"
    }
   ],
   "source": [
    "df.head()"
   ]
  },
  {
   "cell_type": "markdown",
   "metadata": {},
   "source": [
    "Now we initialize something we need"
   ]
  },
  {
   "cell_type": "code",
   "execution_count": 4,
   "metadata": {},
   "outputs": [],
   "source": [
    "s_words=set(stopwords.words('english'))\n",
    "#eng_word=set(nltk.corpus.words.words())\n",
    "#create the list of punctuation\n",
    "list_of_punct=[]\n",
    "for ele in string.punctuation:\n",
    "    list_of_punct.append(str(ele))\n",
    "    \n",
    "d={}\n",
    "ind_dict=0\n",
    "d_inv={}"
   ]
  },
  {
   "cell_type": "markdown",
   "metadata": {},
   "source": [
    "## Step 2. : Create documents"
   ]
  },
  {
   "cell_type": "markdown",
   "metadata": {},
   "source": [
    "For each row of the dataframe we create an .tsv file. We get 18259 files."
   ]
  },
  {
   "cell_type": "code",
   "execution_count": 5,
   "metadata": {},
   "outputs": [],
   "source": [
    "for idx in range(len(df)):\n",
    "    l=list(df.iloc[idx])\n",
    "    with open('/Users/Manfro/Data science/ADM/Homework3/Documents/doc_'+str(idx+1)+'.tsv', 'w', newline='', encoding='utf-8') as f_output:\n",
    "        tsv_output = csv.writer(f_output, delimiter='\\t')\n",
    "        tsv_output.writerow(l)"
   ]
  },
  {
   "cell_type": "markdown",
   "metadata": {},
   "source": [
    "## Step 3. : Search Engine"
   ]
  },
  {
   "cell_type": "markdown",
   "metadata": {},
   "source": [
    "### Step 3.1 : Conjunctive query"
   ]
  },
  {
   "cell_type": "markdown",
   "metadata": {},
   "source": [
    "After we removed all the unuseful words, like stopword and punctuation and for each word we pick the stemming. At this point, we assign to each word a label, that is a integer."
   ]
  },
  {
   "cell_type": "code",
   "execution_count": 6,
   "metadata": {},
   "outputs": [],
   "source": [
    "for i in range(len(df)):\n",
    "    file1=open(\"/Users/Manfro/Data science/ADM/Homework3/Documents/doc_\"+str(i+1)+\".tsv\",encoding=(\"utf-8\"))\n",
    "    line=file1.read()\n",
    "    words=line.split('\\t')\n",
    "    s=words[5]+' '+words[8]\n",
    "    s=s.replace(\"\\\\n\",' ')\n",
    "    tokens = nltk.word_tokenize(s)\n",
    "    filtered_sentence=[word for word  in tokens if not word in list_of_punct ]\n",
    "    filtered_sentence=[word for word  in filtered_sentence if not word in s_words]\n",
    "    s=filtered_sentence\n",
    "\n",
    "    for w in s:\n",
    "        if ps.stem(w) not in d:\n",
    "            d[ps.stem(w)]=ind_dict\n",
    "            ind_dict+=1\n",
    "        if d[ps.stem(w)] not in d_inv:\n",
    "            d_inv[d[ps.stem(w)]]=['doc_'+str(i+1)]\n",
    "        else:\n",
    "            d_inv[d[ps.stem(w)]].append('doc_'+str(i+1))"
   ]
  },
  {
   "cell_type": "markdown",
   "metadata": {},
   "source": [
    "Now we create the inverted dictionary, that has as keys the labels of the first dictionary and for values a set of the names of documents that contains the word."
   ]
  },
  {
   "cell_type": "markdown",
   "metadata": {},
   "source": [
    "It's time to insert the query! "
   ]
  },
  {
   "cell_type": "code",
   "execution_count": 7,
   "metadata": {},
   "outputs": [
    {
     "name": "stdout",
     "output_type": "stream",
     "text": [
      "Insert the query: grocery beach\n"
     ]
    }
   ],
   "source": [
    "query=input('Insert the query: ').split()"
   ]
  },
  {
   "cell_type": "markdown",
   "metadata": {},
   "source": [
    "Non we implement the search engine. It's a function that given the query, returns a list of sorted index of documents that contains all the \"important\" words of the query. First of all, we splitted the string so we have a list of strings. We pick only the words we think that are useful, and we check in what document they are. We get a list of sets. Then we apply the operator intersection that gives us all the documents that contains all the words of the query. Since we're interessend only to the index of documents, using the method startswith and the method replace we can access to the index of documents, that we convert in *int* format and then we sort this list. A the end the function returns this list."
   ]
  },
  {
   "cell_type": "code",
   "execution_count": 8,
   "metadata": {},
   "outputs": [],
   "source": [
    "def search_engine(query):\n",
    "    setList=[]\n",
    "    for word in query:\n",
    "        if word not in s_words:\n",
    "            setList.append(set(d_inv[d[ps.stem(word)]]))\n",
    "    s=set.intersection(*setList)\n",
    "    \n",
    "    l=[]\n",
    "    for doc in s:\n",
    "        if doc.startswith('doc_')==True:\n",
    "            l.append(doc)\n",
    "            \n",
    "    l_int=[]\n",
    "    for item in l:\n",
    "        l_int.append(int(item.replace('doc_',''))-1)\n",
    "    \n",
    "    l_int_sort=sorted(l_int)\n",
    "    return(l_int_sort)"
   ]
  },
  {
   "cell_type": "markdown",
   "metadata": {},
   "source": [
    "We oserved that the number in the document name is the index-1 of the rows of the dataframe, so we create a list of index and for each index we copy the rows in a new dataframe(df_)"
   ]
  },
  {
   "cell_type": "code",
   "execution_count": 9,
   "metadata": {
    "scrolled": false
   },
   "outputs": [
    {
     "data": {
      "text/html": [
       "<div>\n",
       "<style scoped>\n",
       "    .dataframe tbody tr th:only-of-type {\n",
       "        vertical-align: middle;\n",
       "    }\n",
       "\n",
       "    .dataframe tbody tr th {\n",
       "        vertical-align: top;\n",
       "    }\n",
       "\n",
       "    .dataframe thead th {\n",
       "        text-align: right;\n",
       "    }\n",
       "</style>\n",
       "<table border=\"1\" class=\"dataframe\">\n",
       "  <thead>\n",
       "    <tr style=\"text-align: right;\">\n",
       "      <th></th>\n",
       "      <th>title</th>\n",
       "      <th>description</th>\n",
       "      <th>city</th>\n",
       "      <th>url</th>\n",
       "    </tr>\n",
       "  </thead>\n",
       "  <tbody>\n",
       "    <tr>\n",
       "      <th>1874</th>\n",
       "      <td>Nature's Abundance</td>\n",
       "      <td>My place is close to the Moody Gardens, beach,...</td>\n",
       "      <td>Galveston</td>\n",
       "      <td>https://www.airbnb.com/rooms/13802467?location...</td>\n",
       "    </tr>\n",
       "    <tr>\n",
       "      <th>1892</th>\n",
       "      <td>Beachfront Paradise Galveston Condo</td>\n",
       "      <td>My place is good for couples, solo adventurers...</td>\n",
       "      <td>Galveston</td>\n",
       "      <td>https://www.airbnb.com/rooms/13307473?location...</td>\n",
       "    </tr>\n",
       "    <tr>\n",
       "      <th>2251</th>\n",
       "      <td>Maggie's Imperfect Perfection</td>\n",
       "      <td>The Gulf of Mexico is beautiful, and this firs...</td>\n",
       "      <td>Port Aransas</td>\n",
       "      <td>https://www.airbnb.com/rooms/16854214?location...</td>\n",
       "    </tr>\n",
       "    <tr>\n",
       "      <th>2262</th>\n",
       "      <td>1 BDRM CONDO WALKING DIST TO BEACH</td>\n",
       "      <td>Condo has wifi, cable, swimming pool, picnic a...</td>\n",
       "      <td>Port Aransas</td>\n",
       "      <td>https://www.airbnb.com/rooms/893772?location=C...</td>\n",
       "    </tr>\n",
       "    <tr>\n",
       "      <th>2652</th>\n",
       "      <td>Cozy 1brm furnished condo</td>\n",
       "      <td>Our condo is fully furnished with all your nee...</td>\n",
       "      <td>Corpus Christi</td>\n",
       "      <td>https://www.airbnb.com/rooms/11486854?location...</td>\n",
       "    </tr>\n",
       "    <tr>\n",
       "      <th>3214</th>\n",
       "      <td>Laguna Tiki Bar House</td>\n",
       "      <td>The perfect family getaway for all coastal lov...</td>\n",
       "      <td>Corpus Christi</td>\n",
       "      <td>https://www.airbnb.com/rooms/18018388?location...</td>\n",
       "    </tr>\n",
       "    <tr>\n",
       "      <th>5746</th>\n",
       "      <td>Island Hideaway</td>\n",
       "      <td>Fully equipped kitchenette suite in 1/2 of hou...</td>\n",
       "      <td>Port Aransas</td>\n",
       "      <td>https://www.airbnb.com/rooms/17193877?location...</td>\n",
       "    </tr>\n",
       "    <tr>\n",
       "      <th>8969</th>\n",
       "      <td>Siesta by the Sea Shore with a private pool</td>\n",
       "      <td>My place is close to family-friendly activitie...</td>\n",
       "      <td>South Padre Island</td>\n",
       "      <td>https://www.airbnb.com/rooms/14024642?location...</td>\n",
       "    </tr>\n",
       "    <tr>\n",
       "      <th>9672</th>\n",
       "      <td>Ocean is the Backyard!</td>\n",
       "      <td>In the center of town: \\nWithin Walking Distan...</td>\n",
       "      <td>South Padre Island</td>\n",
       "      <td>https://www.airbnb.com/rooms/11588454?location...</td>\n",
       "    </tr>\n",
       "    <tr>\n",
       "      <th>10347</th>\n",
       "      <td>Private Room in The Austin Oasis House Lake Tr...</td>\n",
       "      <td>Welcome to the Lake Travis area! You are going...</td>\n",
       "      <td>Austin</td>\n",
       "      <td>https://www.airbnb.com/rooms/15903071?location...</td>\n",
       "    </tr>\n",
       "    <tr>\n",
       "      <th>11186</th>\n",
       "      <td>Marlin Star Beachside Paradise</td>\n",
       "      <td>Short walk (3-4 minute) to the beach, SPI beac...</td>\n",
       "      <td>South Padre Island</td>\n",
       "      <td>https://www.airbnb.com/rooms/18627929?location...</td>\n",
       "    </tr>\n",
       "    <tr>\n",
       "      <th>11547</th>\n",
       "      <td>Pueblos del Padre</td>\n",
       "      <td>This beautiful new condo is a ground floor 2 b...</td>\n",
       "      <td>South Padre Island</td>\n",
       "      <td>https://www.airbnb.com/rooms/19020727?location...</td>\n",
       "    </tr>\n",
       "    <tr>\n",
       "      <th>11844</th>\n",
       "      <td>3BR Great Location Peaceful and Centric Apartment</td>\n",
       "      <td>Our 3 bedroom family condo is very spacious, t...</td>\n",
       "      <td>South Padre Island</td>\n",
       "      <td>https://www.airbnb.com/rooms/15927683?location...</td>\n",
       "    </tr>\n",
       "    <tr>\n",
       "      <th>12972</th>\n",
       "      <td>Family Friendly 2/2 on the Island, Walk to Beach!</td>\n",
       "      <td>Fully Furnished 2/2 Condo near the Gulf! Well ...</td>\n",
       "      <td>Corpus Christi</td>\n",
       "      <td>https://www.airbnb.com/rooms/6118210?location=...</td>\n",
       "    </tr>\n",
       "    <tr>\n",
       "      <th>13520</th>\n",
       "      <td>Laguna Tiki Bar House</td>\n",
       "      <td>The perfect family getaway for all coastal lov...</td>\n",
       "      <td>Corpus Christi</td>\n",
       "      <td>https://www.airbnb.com/rooms/18018388?location...</td>\n",
       "    </tr>\n",
       "    <tr>\n",
       "      <th>13668</th>\n",
       "      <td>Coastal Haven too!</td>\n",
       "      <td>Our beach house is few blocks to the beach and...</td>\n",
       "      <td>Galveston</td>\n",
       "      <td>https://www.airbnb.com/rooms/16615560?location...</td>\n",
       "    </tr>\n",
       "    <tr>\n",
       "      <th>13847</th>\n",
       "      <td>Gibbs House / Walk to the Beach</td>\n",
       "      <td>Your private suite is in my personal residence...</td>\n",
       "      <td>Galveston</td>\n",
       "      <td>https://www.airbnb.com/rooms/16982846?location...</td>\n",
       "    </tr>\n",
       "    <tr>\n",
       "      <th>14360</th>\n",
       "      <td>Family Friendly 2/2 on the Island, Walk to Beach!</td>\n",
       "      <td>Fully Furnished 2/2 Condo near the Gulf! Well ...</td>\n",
       "      <td>Corpus Christi</td>\n",
       "      <td>https://www.airbnb.com/rooms/6118210?location=...</td>\n",
       "    </tr>\n",
       "    <tr>\n",
       "      <th>14898</th>\n",
       "      <td>1 BDRM CONDO WALKING DIST TO BEACH</td>\n",
       "      <td>Condo has wifi, cable, swimming pool, picnic a...</td>\n",
       "      <td>Port Aransas</td>\n",
       "      <td>https://www.airbnb.com/rooms/893772?location=A...</td>\n",
       "    </tr>\n",
       "    <tr>\n",
       "      <th>15279</th>\n",
       "      <td>5 Palms Fish House B</td>\n",
       "      <td>5 Palms Fish House is located close to Polka-D...</td>\n",
       "      <td>Matagorda</td>\n",
       "      <td>https://www.airbnb.com/rooms/16595711?location...</td>\n",
       "    </tr>\n",
       "    <tr>\n",
       "      <th>15849</th>\n",
       "      <td>5 Palms Fish House A</td>\n",
       "      <td>My place is close to 5 Palms Fish House is loc...</td>\n",
       "      <td>Matagorda</td>\n",
       "      <td>https://www.airbnb.com/rooms/17251988?location...</td>\n",
       "    </tr>\n",
       "    <tr>\n",
       "      <th>18089</th>\n",
       "      <td>Island Hideaway</td>\n",
       "      <td>Fully equipped kitchenette suite in 1/2 of hou...</td>\n",
       "      <td>Port Aransas</td>\n",
       "      <td>https://www.airbnb.com/rooms/17193877?location...</td>\n",
       "    </tr>\n",
       "    <tr>\n",
       "      <th>18115</th>\n",
       "      <td>Beach Front Condo- KING Bed. Sleeps Six</td>\n",
       "      <td>Welcome to our Condo. Perfect location for som...</td>\n",
       "      <td>Galveston</td>\n",
       "      <td>https://www.airbnb.com/rooms/17386776?location...</td>\n",
       "    </tr>\n",
       "    <tr>\n",
       "      <th>18194</th>\n",
       "      <td>Laguna Tiki Bar House</td>\n",
       "      <td>The perfect family getaway for all coastal lov...</td>\n",
       "      <td>Corpus Christi</td>\n",
       "      <td>https://www.airbnb.com/rooms/18018388?location...</td>\n",
       "    </tr>\n",
       "  </tbody>\n",
       "</table>\n",
       "</div>"
      ],
      "text/plain": [
       "                                                   title  \\\n",
       "1874                                  Nature's Abundance   \n",
       "1892                 Beachfront Paradise Galveston Condo   \n",
       "2251                       Maggie's Imperfect Perfection   \n",
       "2262                  1 BDRM CONDO WALKING DIST TO BEACH   \n",
       "2652                           Cozy 1brm furnished condo   \n",
       "3214                               Laguna Tiki Bar House   \n",
       "5746                                     Island Hideaway   \n",
       "8969         Siesta by the Sea Shore with a private pool   \n",
       "9672                              Ocean is the Backyard!   \n",
       "10347  Private Room in The Austin Oasis House Lake Tr...   \n",
       "11186                     Marlin Star Beachside Paradise   \n",
       "11547                                  Pueblos del Padre   \n",
       "11844  3BR Great Location Peaceful and Centric Apartment   \n",
       "12972  Family Friendly 2/2 on the Island, Walk to Beach!   \n",
       "13520                              Laguna Tiki Bar House   \n",
       "13668                                 Coastal Haven too!   \n",
       "13847                    Gibbs House / Walk to the Beach   \n",
       "14360  Family Friendly 2/2 on the Island, Walk to Beach!   \n",
       "14898                 1 BDRM CONDO WALKING DIST TO BEACH   \n",
       "15279                               5 Palms Fish House B   \n",
       "15849                               5 Palms Fish House A   \n",
       "18089                                    Island Hideaway   \n",
       "18115            Beach Front Condo- KING Bed. Sleeps Six   \n",
       "18194                              Laguna Tiki Bar House   \n",
       "\n",
       "                                             description                city  \\\n",
       "1874   My place is close to the Moody Gardens, beach,...           Galveston   \n",
       "1892   My place is good for couples, solo adventurers...           Galveston   \n",
       "2251   The Gulf of Mexico is beautiful, and this firs...        Port Aransas   \n",
       "2262   Condo has wifi, cable, swimming pool, picnic a...        Port Aransas   \n",
       "2652   Our condo is fully furnished with all your nee...      Corpus Christi   \n",
       "3214   The perfect family getaway for all coastal lov...      Corpus Christi   \n",
       "5746   Fully equipped kitchenette suite in 1/2 of hou...        Port Aransas   \n",
       "8969   My place is close to family-friendly activitie...  South Padre Island   \n",
       "9672   In the center of town: \\nWithin Walking Distan...  South Padre Island   \n",
       "10347  Welcome to the Lake Travis area! You are going...              Austin   \n",
       "11186  Short walk (3-4 minute) to the beach, SPI beac...  South Padre Island   \n",
       "11547  This beautiful new condo is a ground floor 2 b...  South Padre Island   \n",
       "11844  Our 3 bedroom family condo is very spacious, t...  South Padre Island   \n",
       "12972  Fully Furnished 2/2 Condo near the Gulf! Well ...      Corpus Christi   \n",
       "13520  The perfect family getaway for all coastal lov...      Corpus Christi   \n",
       "13668  Our beach house is few blocks to the beach and...           Galveston   \n",
       "13847  Your private suite is in my personal residence...           Galveston   \n",
       "14360  Fully Furnished 2/2 Condo near the Gulf! Well ...      Corpus Christi   \n",
       "14898  Condo has wifi, cable, swimming pool, picnic a...        Port Aransas   \n",
       "15279  5 Palms Fish House is located close to Polka-D...           Matagorda   \n",
       "15849  My place is close to 5 Palms Fish House is loc...           Matagorda   \n",
       "18089  Fully equipped kitchenette suite in 1/2 of hou...        Port Aransas   \n",
       "18115  Welcome to our Condo. Perfect location for som...           Galveston   \n",
       "18194  The perfect family getaway for all coastal lov...      Corpus Christi   \n",
       "\n",
       "                                                     url  \n",
       "1874   https://www.airbnb.com/rooms/13802467?location...  \n",
       "1892   https://www.airbnb.com/rooms/13307473?location...  \n",
       "2251   https://www.airbnb.com/rooms/16854214?location...  \n",
       "2262   https://www.airbnb.com/rooms/893772?location=C...  \n",
       "2652   https://www.airbnb.com/rooms/11486854?location...  \n",
       "3214   https://www.airbnb.com/rooms/18018388?location...  \n",
       "5746   https://www.airbnb.com/rooms/17193877?location...  \n",
       "8969   https://www.airbnb.com/rooms/14024642?location...  \n",
       "9672   https://www.airbnb.com/rooms/11588454?location...  \n",
       "10347  https://www.airbnb.com/rooms/15903071?location...  \n",
       "11186  https://www.airbnb.com/rooms/18627929?location...  \n",
       "11547  https://www.airbnb.com/rooms/19020727?location...  \n",
       "11844  https://www.airbnb.com/rooms/15927683?location...  \n",
       "12972  https://www.airbnb.com/rooms/6118210?location=...  \n",
       "13520  https://www.airbnb.com/rooms/18018388?location...  \n",
       "13668  https://www.airbnb.com/rooms/16615560?location...  \n",
       "13847  https://www.airbnb.com/rooms/16982846?location...  \n",
       "14360  https://www.airbnb.com/rooms/6118210?location=...  \n",
       "14898  https://www.airbnb.com/rooms/893772?location=A...  \n",
       "15279  https://www.airbnb.com/rooms/16595711?location...  \n",
       "15849  https://www.airbnb.com/rooms/17251988?location...  \n",
       "18089  https://www.airbnb.com/rooms/17193877?location...  \n",
       "18115  https://www.airbnb.com/rooms/17386776?location...  \n",
       "18194  https://www.airbnb.com/rooms/18018388?location...  "
      ]
     },
     "execution_count": 9,
     "metadata": {},
     "output_type": "execute_result"
    }
   ],
   "source": [
    "l_int_sort=search_engine(query)\n",
    "df.iloc[l_int_sort,[8,5,3,9]]"
   ]
  },
  {
   "cell_type": "markdown",
   "metadata": {},
   "source": [
    "### 3.2: Conjunctive query & Ranking score"
   ]
  },
  {
   "cell_type": "markdown",
   "metadata": {},
   "source": [
    "In this chunk we created the second inverted dictionary, as written in the exercise."
   ]
  },
  {
   "cell_type": "code",
   "execution_count": 10,
   "metadata": {},
   "outputs": [],
   "source": [
    "d_inv2={}\n",
    "N=len(df)\n",
    "for label in d_inv.keys():\n",
    "    d_inv2[label]=[]\n",
    "    den=len(set(d_inv[label]))\n",
    "    s_to_ex=[]\n",
    "    for item in d_inv[label]:\n",
    "        if item not in s_to_ex:\n",
    "            index=int(item.replace('doc_',''))-1\n",
    "            s=str(df.iloc[index,5])+' '+str(df.iloc[index,8])\n",
    "            s=s.replace(\"\\\\n\",' ')\n",
    "            doc_len=len(s.split())\n",
    "            count=d_inv[label].count(item)\n",
    "            d_inv2[label].append((item,(count/doc_len)*math.log10(N/len(set(d_inv[label])))))\n",
    "            s_to_ex.append(item)"
   ]
  },
  {
   "cell_type": "code",
   "execution_count": 11,
   "metadata": {},
   "outputs": [
    {
     "name": "stdout",
     "output_type": "stream",
     "text": [
      "Insert the query: grocery beach\n",
      "Insert the number of documents you want to print (k): 7\n"
     ]
    }
   ],
   "source": [
    "query=input('Insert the query: ').split()\n",
    "k=int(input('Insert the number of documents you want to print (k): '))"
   ]
  },
  {
   "cell_type": "markdown",
   "metadata": {},
   "source": [
    "How we did in the previous step, we find the indexes of documents that contains all the words of the query using the intersection among sets. We use the function that we have written previuosly"
   ]
  },
  {
   "cell_type": "code",
   "execution_count": 12,
   "metadata": {},
   "outputs": [],
   "source": [
    "l_int_sort=search_engine(query)"
   ]
  },
  {
   "cell_type": "markdown",
   "metadata": {},
   "source": [
    "Now we compute the tfidf score for the query. "
   ]
  },
  {
   "cell_type": "code",
   "execution_count": 13,
   "metadata": {},
   "outputs": [],
   "source": [
    "y=[]\n",
    "N1=len(df)+1\n",
    "for word in query:\n",
    "    if word not in s_words:\n",
    "        n=query.count(word)\n",
    "        den=len(query)\n",
    "        den1=len(set(d_inv[d[ps.stem(word)]]))\n",
    "        y.append((n/den)*math.log10(N1/den1))\n",
    "        \n",
    "y=np.asarray(y)\n",
    "norm=np.linalg.norm(y)\n",
    "if norm!=0:\n",
    "    y=y/norm"
   ]
  },
  {
   "cell_type": "markdown",
   "metadata": {},
   "source": [
    "For compute the cosine similarity between the query and each documents, we have to create a vector for each documents. For each document, the vector is made by the tfidf score of the words associated to each word of the query."
   ]
  },
  {
   "cell_type": "code",
   "execution_count": 14,
   "metadata": {
    "scrolled": true
   },
   "outputs": [],
   "source": [
    "points=[]\n",
    "for i in range(len(l_int_sort)):\n",
    "    x=[]\n",
    "    name_doc='doc_'+str(l_int_sort[i]+1)\n",
    "    for w in query:\n",
    "        if w not in s_words:\n",
    "            sw=ps.stem(w)\n",
    "            if sw in d:\n",
    "                l=d_inv2[d[sw]]\n",
    "                for tup in l:\n",
    "                    if tup[0]==name_doc:\n",
    "                        x.append(tup[1])\n",
    "            else:\n",
    "                x.append(0)\n",
    "    points.append(x)"
   ]
  },
  {
   "cell_type": "markdown",
   "metadata": {},
   "source": [
    "Now we have a list of list (points) that contains all the vectors we introduce previously. Now we compute the cosine similarity between the query and each vector and we store it in a tuple made by (cosine_similarity_doc_i, i). We store this tuples in a heap: each knots is a tuple and the key is the cosine similarity."
   ]
  },
  {
   "cell_type": "code",
   "execution_count": 15,
   "metadata": {},
   "outputs": [],
   "source": [
    "heap=[]\n",
    "\n",
    "for x,i in zip(points,range(len(l_int_sort))):\n",
    "    x=np.asarray(x)\n",
    "    norm=np.linalg.norm(x)\n",
    "    if norm!=0:\n",
    "        x=x/norm\n",
    "    Sim=((1-spatial.distance.cosine(x,y),l_int_sort[i]))\n",
    "    heapq.heappush(heap,Sim)"
   ]
  },
  {
   "cell_type": "markdown",
   "metadata": {},
   "source": [
    "Now we store each k-tuples in a list, ordered by the value of cosine similarity."
   ]
  },
  {
   "cell_type": "code",
   "execution_count": 16,
   "metadata": {},
   "outputs": [],
   "source": [
    "l=[]\n",
    "max_heap=heapq.nlargest(k,heap)\n",
    "for tup in max_heap:\n",
    "    l.append(float(str(tup[0])[0:5]))"
   ]
  },
  {
   "cell_type": "markdown",
   "metadata": {},
   "source": [
    "We create a new dataframe that contains all the row we need"
   ]
  },
  {
   "cell_type": "code",
   "execution_count": 17,
   "metadata": {
    "scrolled": false
   },
   "outputs": [
    {
     "data": {
      "text/html": [
       "<div>\n",
       "<style scoped>\n",
       "    .dataframe tbody tr th:only-of-type {\n",
       "        vertical-align: middle;\n",
       "    }\n",
       "\n",
       "    .dataframe tbody tr th {\n",
       "        vertical-align: top;\n",
       "    }\n",
       "\n",
       "    .dataframe thead th {\n",
       "        text-align: right;\n",
       "    }\n",
       "</style>\n",
       "<table border=\"1\" class=\"dataframe\">\n",
       "  <thead>\n",
       "    <tr style=\"text-align: right;\">\n",
       "      <th></th>\n",
       "      <th>title</th>\n",
       "      <th>description</th>\n",
       "      <th>city</th>\n",
       "      <th>url</th>\n",
       "      <th>Similarity</th>\n",
       "    </tr>\n",
       "  </thead>\n",
       "  <tbody>\n",
       "    <tr>\n",
       "      <th>18194</th>\n",
       "      <td>Laguna Tiki Bar House</td>\n",
       "      <td>The perfect family getaway for all coastal lov...</td>\n",
       "      <td>Corpus Christi</td>\n",
       "      <td>https://www.airbnb.com/rooms/18018388?location...</td>\n",
       "      <td>0.999</td>\n",
       "    </tr>\n",
       "    <tr>\n",
       "      <th>18089</th>\n",
       "      <td>Island Hideaway</td>\n",
       "      <td>Fully equipped kitchenette suite in 1/2 of hou...</td>\n",
       "      <td>Port Aransas</td>\n",
       "      <td>https://www.airbnb.com/rooms/17193877?location...</td>\n",
       "      <td>0.999</td>\n",
       "    </tr>\n",
       "    <tr>\n",
       "      <th>13520</th>\n",
       "      <td>Laguna Tiki Bar House</td>\n",
       "      <td>The perfect family getaway for all coastal lov...</td>\n",
       "      <td>Corpus Christi</td>\n",
       "      <td>https://www.airbnb.com/rooms/18018388?location...</td>\n",
       "      <td>0.999</td>\n",
       "    </tr>\n",
       "    <tr>\n",
       "      <th>11844</th>\n",
       "      <td>3BR Great Location Peaceful and Centric Apartment</td>\n",
       "      <td>Our 3 bedroom family condo is very spacious, t...</td>\n",
       "      <td>South Padre Island</td>\n",
       "      <td>https://www.airbnb.com/rooms/15927683?location...</td>\n",
       "      <td>0.999</td>\n",
       "    </tr>\n",
       "    <tr>\n",
       "      <th>11547</th>\n",
       "      <td>Pueblos del Padre</td>\n",
       "      <td>This beautiful new condo is a ground floor 2 b...</td>\n",
       "      <td>South Padre Island</td>\n",
       "      <td>https://www.airbnb.com/rooms/19020727?location...</td>\n",
       "      <td>0.999</td>\n",
       "    </tr>\n",
       "    <tr>\n",
       "      <th>10347</th>\n",
       "      <td>Private Room in The Austin Oasis House Lake Tr...</td>\n",
       "      <td>Welcome to the Lake Travis area! You are going...</td>\n",
       "      <td>Austin</td>\n",
       "      <td>https://www.airbnb.com/rooms/15903071?location...</td>\n",
       "      <td>0.999</td>\n",
       "    </tr>\n",
       "    <tr>\n",
       "      <th>5746</th>\n",
       "      <td>Island Hideaway</td>\n",
       "      <td>Fully equipped kitchenette suite in 1/2 of hou...</td>\n",
       "      <td>Port Aransas</td>\n",
       "      <td>https://www.airbnb.com/rooms/17193877?location...</td>\n",
       "      <td>0.999</td>\n",
       "    </tr>\n",
       "  </tbody>\n",
       "</table>\n",
       "</div>"
      ],
      "text/plain": [
       "                                                   title  \\\n",
       "18194                              Laguna Tiki Bar House   \n",
       "18089                                    Island Hideaway   \n",
       "13520                              Laguna Tiki Bar House   \n",
       "11844  3BR Great Location Peaceful and Centric Apartment   \n",
       "11547                                  Pueblos del Padre   \n",
       "10347  Private Room in The Austin Oasis House Lake Tr...   \n",
       "5746                                     Island Hideaway   \n",
       "\n",
       "                                             description                city  \\\n",
       "18194  The perfect family getaway for all coastal lov...      Corpus Christi   \n",
       "18089  Fully equipped kitchenette suite in 1/2 of hou...        Port Aransas   \n",
       "13520  The perfect family getaway for all coastal lov...      Corpus Christi   \n",
       "11844  Our 3 bedroom family condo is very spacious, t...  South Padre Island   \n",
       "11547  This beautiful new condo is a ground floor 2 b...  South Padre Island   \n",
       "10347  Welcome to the Lake Travis area! You are going...              Austin   \n",
       "5746   Fully equipped kitchenette suite in 1/2 of hou...        Port Aransas   \n",
       "\n",
       "                                                     url  Similarity  \n",
       "18194  https://www.airbnb.com/rooms/18018388?location...       0.999  \n",
       "18089  https://www.airbnb.com/rooms/17193877?location...       0.999  \n",
       "13520  https://www.airbnb.com/rooms/18018388?location...       0.999  \n",
       "11844  https://www.airbnb.com/rooms/15927683?location...       0.999  \n",
       "11547  https://www.airbnb.com/rooms/19020727?location...       0.999  \n",
       "10347  https://www.airbnb.com/rooms/15903071?location...       0.999  \n",
       "5746   https://www.airbnb.com/rooms/17193877?location...       0.999  "
      ]
     },
     "execution_count": 17,
     "metadata": {},
     "output_type": "execute_result"
    }
   ],
   "source": [
    "df_1=pd.DataFrame()\n",
    "\n",
    "for tup in max_heap:\n",
    "    idx=tup[1] \n",
    "    row=pd.DataFrame()\n",
    "    row=df.iloc[[idx]]\n",
    "    df_1=pd.concat([df_1,row])\n",
    "df_1=df_1.filter(['title','description','city','url'])\n",
    "df_1['Similarity']=l\n",
    "df_1"
   ]
  },
  {
   "cell_type": "markdown",
   "metadata": {},
   "source": [
    "# Step 4: Define your score\n"
   ]
  },
  {
   "cell_type": "markdown",
   "metadata": {},
   "source": [
    "We used the query insered before."
   ]
  },
  {
   "cell_type": "markdown",
   "metadata": {},
   "source": [
    "Now we crate a new dictionary that has a keys, the documents, and as value our persona tfidf score. First of all we initialize the values of the dictionary as an empty list."
   ]
  },
  {
   "cell_type": "code",
   "execution_count": 57,
   "metadata": {},
   "outputs": [],
   "source": [
    "my_score_dic={}\n",
    "for idx in l_int_sort:\n",
    "    my_score_dic[idx]=[]"
   ]
  },
  {
   "cell_type": "code",
   "execution_count": 58,
   "metadata": {},
   "outputs": [],
   "source": [
    "df_2=pd.DataFrame()\n",
    "\n",
    "for idx in l_int_sort:\n",
    "    row=pd.DataFrame()\n",
    "    row=df.iloc[[idx]]\n",
    "    df_2=pd.concat([df_2,row])"
   ]
  },
  {
   "cell_type": "markdown",
   "metadata": {},
   "source": [
    "Our first idea is to create a gradutory for the city. More precisely, after we get the documents that contais all the words od the query we want to create a graduatory based on preferences of the user. So the program will print all the cities with a personal code (an integer) and the user will insert a list of number that represent his/her preferences. \n",
    "\n",
    "For example, if we find this cities: (Nacogdoches', 'Amarillo', 'Austin'), the programm associates this code:\n",
    "    Nacogdoches: 0 \n",
    "    Amarillo: 1 \n",
    "    Austin:2\n",
    "    \n",
    "If the user insert this list of numbers: [2,0,1], he's saying that the city that he/she would like to live is Austin, then Nacogdoches and so on ans so for.\n",
    "\n",
    "So when we find this graduatory, we will assign to each city a personal point. We were inspired by the graduatory of a Formula1 race: the first pick 25 points, the second 18 points and so on and so for. For assign the point we used the Fibonacci's sequences, in this way we think and hope to give a good distribution for the points, we should have the biggest gap between first and second, a smaller than the previously gap between second and third and so on. In this way we hope that we are giving the right priority to the cities where the users would like to live. Let's have a look to the code: first of all we used a set for find the cities. "
   ]
  },
  {
   "cell_type": "code",
   "execution_count": 33,
   "metadata": {},
   "outputs": [],
   "source": [
    "cities=list(set(df_2['city']))"
   ]
  },
  {
   "cell_type": "code",
   "execution_count": 34,
   "metadata": {},
   "outputs": [],
   "source": [
    "city_d={}\n",
    "i=0\n",
    "for city in cities:\n",
    "    city_d[city]=i\n",
    "    i+=1"
   ]
  },
  {
   "cell_type": "code",
   "execution_count": 35,
   "metadata": {},
   "outputs": [],
   "source": [
    "city_d_inv={}\n",
    "i=0\n",
    "for city in cities:\n",
    "    city_d_inv[i]=[city]\n",
    "    i+=1"
   ]
  },
  {
   "cell_type": "markdown",
   "metadata": {},
   "source": [
    "So we have this dictionaries"
   ]
  },
  {
   "cell_type": "code",
   "execution_count": 36,
   "metadata": {},
   "outputs": [
    {
     "data": {
      "text/plain": [
       "{'Corpus Christi': 0,\n",
       " 'Matagorda': 1,\n",
       " 'Port Aransas': 2,\n",
       " 'Austin': 3,\n",
       " 'South Padre Island': 4,\n",
       " 'Galveston': 5}"
      ]
     },
     "execution_count": 36,
     "metadata": {},
     "output_type": "execute_result"
    }
   ],
   "source": [
    "city_d"
   ]
  },
  {
   "cell_type": "code",
   "execution_count": 37,
   "metadata": {},
   "outputs": [
    {
     "data": {
      "text/plain": [
       "{0: ['Corpus Christi'],\n",
       " 1: ['Matagorda'],\n",
       " 2: ['Port Aransas'],\n",
       " 3: ['Austin'],\n",
       " 4: ['South Padre Island'],\n",
       " 5: ['Galveston']}"
      ]
     },
     "execution_count": 37,
     "metadata": {},
     "output_type": "execute_result"
    }
   ],
   "source": [
    "city_d_inv"
   ]
  },
  {
   "cell_type": "markdown",
   "metadata": {},
   "source": [
    "Now the user has to insert his preferences, so a list of number where each number is associated to a city"
   ]
  },
  {
   "cell_type": "code",
   "execution_count": 38,
   "metadata": {},
   "outputs": [
    {
     "name": "stdout",
     "output_type": "stream",
     "text": [
      "Please insert the ranking of preferences: 4 3 2 5 1 0 \n"
     ]
    }
   ],
   "source": [
    "preferences=list(map(int, input('Please insert the ranking of preferences: ').split()))"
   ]
  },
  {
   "cell_type": "markdown",
   "metadata": {},
   "source": [
    "Now we are computing the scores for each city using Fibonacci's sequence"
   ]
  },
  {
   "cell_type": "code",
   "execution_count": 39,
   "metadata": {},
   "outputs": [],
   "source": [
    "k=[1,1]\n",
    "i=1\n",
    "while len(k)<=len(cities)+1:\n",
    "    k.append(k[i]+k[i-1])\n",
    "    i+=1\n",
    "k=sorted(k[2:],reverse=True)"
   ]
  },
  {
   "cell_type": "markdown",
   "metadata": {},
   "source": [
    "And we assign the score to each city"
   ]
  },
  {
   "cell_type": "code",
   "execution_count": 40,
   "metadata": {},
   "outputs": [],
   "source": [
    "idx=0\n",
    "for i in preferences:\n",
    "    city_d_inv[i].append(k[idx])\n",
    "    idx+=1"
   ]
  },
  {
   "cell_type": "code",
   "execution_count": 41,
   "metadata": {},
   "outputs": [
    {
     "data": {
      "text/plain": [
       "{0: ['Corpus Christi', 2],\n",
       " 1: ['Matagorda', 3],\n",
       " 2: ['Port Aransas', 8],\n",
       " 3: ['Austin', 13],\n",
       " 4: ['South Padre Island', 21],\n",
       " 5: ['Galveston', 5]}"
      ]
     },
     "execution_count": 41,
     "metadata": {},
     "output_type": "execute_result"
    }
   ],
   "source": [
    "city_d_inv"
   ]
  },
  {
   "cell_type": "code",
   "execution_count": 42,
   "metadata": {},
   "outputs": [],
   "source": [
    "for idx in l_int_sort:\n",
    "    city=df_2.loc[idx]['city']\n",
    "    \n",
    "    my_score_dic[idx]=city_d_inv[city_d[city]][1]"
   ]
  },
  {
   "cell_type": "markdown",
   "metadata": {},
   "source": [
    "Now each city has its score and the minimum score is 2. Now since we can have different houses in each city, we have also to classificate it for the price. Let's insert the maximum price that user wants to pay. After than we decrase the score of each documents this quantity: (price_doc_i-insered_price)/max_price, where *price_doc_i* is the price of the location associated to the document *i*, *insered_price* is the price isered by the user and *max_price* is the maximum price among the prices we find as result of the query. Note that, if the price of a location is smaller than the price insered, we're increasing the score."
   ]
  },
  {
   "cell_type": "code",
   "execution_count": 43,
   "metadata": {},
   "outputs": [],
   "source": [
    "prices=list(df_2['average_rate_per_night'])"
   ]
  },
  {
   "cell_type": "code",
   "execution_count": 44,
   "metadata": {},
   "outputs": [],
   "source": [
    "cast_p=[]\n",
    "for p in prices:\n",
    "    p=p.replace('$',' ')\n",
    "    cast_p.append(int(p))"
   ]
  },
  {
   "cell_type": "code",
   "execution_count": 45,
   "metadata": {},
   "outputs": [],
   "source": [
    "max_price=max(cast_p)"
   ]
  },
  {
   "cell_type": "code",
   "execution_count": 46,
   "metadata": {},
   "outputs": [
    {
     "name": "stdout",
     "output_type": "stream",
     "text": [
      "Please insert the price you would like to pay: 100\n"
     ]
    }
   ],
   "source": [
    "price=int(input('Please insert the price you would like to pay: '))"
   ]
  },
  {
   "cell_type": "code",
   "execution_count": 47,
   "metadata": {},
   "outputs": [],
   "source": [
    "keys=list(my_score_dic.keys())\n",
    "for i in range(len(keys)):\n",
    "    my_score_dic[keys[i]]-= (cast_p[i]-price)/max_price"
   ]
  },
  {
   "cell_type": "markdown",
   "metadata": {},
   "source": [
    "Now we store all the documents with their score in a heap, than we will pick the first *k* values"
   ]
  },
  {
   "cell_type": "code",
   "execution_count": 48,
   "metadata": {},
   "outputs": [],
   "source": [
    "heap_s=[]\n",
    "for key in keys:\n",
    "    t=(my_score_dic[key],key)\n",
    "    heapq.heappush(heap_s,t)"
   ]
  },
  {
   "cell_type": "code",
   "execution_count": 49,
   "metadata": {},
   "outputs": [
    {
     "name": "stdout",
     "output_type": "stream",
     "text": [
      "Please insert the number of locations you want to see:7\n"
     ]
    }
   ],
   "source": [
    "nscore=int(input('Please insert the number of locations you want to see:'))"
   ]
  },
  {
   "cell_type": "code",
   "execution_count": 50,
   "metadata": {},
   "outputs": [
    {
     "data": {
      "text/plain": [
       "[(20.941903584672435, 11844),\n",
       " (20.894932014833127, 11547),\n",
       " (20.876390605686034, 11186),\n",
       " (20.558714462299136, 9672),\n",
       " (20.123609394313966, 8969),\n",
       " (13.058096415327565, 10347),\n",
       " (8.012360939431396, 18089)]"
      ]
     },
     "execution_count": 50,
     "metadata": {},
     "output_type": "execute_result"
    }
   ],
   "source": [
    "max_heap_s=heapq.nlargest(nscore,heap_s)\n",
    "max_heap_s"
   ]
  },
  {
   "cell_type": "code",
   "execution_count": 51,
   "metadata": {},
   "outputs": [
    {
     "data": {
      "text/html": [
       "<div>\n",
       "<style scoped>\n",
       "    .dataframe tbody tr th:only-of-type {\n",
       "        vertical-align: middle;\n",
       "    }\n",
       "\n",
       "    .dataframe tbody tr th {\n",
       "        vertical-align: top;\n",
       "    }\n",
       "\n",
       "    .dataframe thead th {\n",
       "        text-align: right;\n",
       "    }\n",
       "</style>\n",
       "<table border=\"1\" class=\"dataframe\">\n",
       "  <thead>\n",
       "    <tr style=\"text-align: right;\">\n",
       "      <th></th>\n",
       "      <th>Ranking</th>\n",
       "      <th>title</th>\n",
       "      <th>description</th>\n",
       "      <th>city</th>\n",
       "      <th>url</th>\n",
       "    </tr>\n",
       "  </thead>\n",
       "  <tbody>\n",
       "    <tr>\n",
       "      <th>0</th>\n",
       "      <td>1</td>\n",
       "      <td>3BR Great Location Peaceful and Centric Apartment</td>\n",
       "      <td>Our 3 bedroom family condo is very spacious, t...</td>\n",
       "      <td>South Padre Island</td>\n",
       "      <td>https://www.airbnb.com/rooms/15927683?location...</td>\n",
       "    </tr>\n",
       "    <tr>\n",
       "      <th>1</th>\n",
       "      <td>2</td>\n",
       "      <td>Pueblos del Padre</td>\n",
       "      <td>This beautiful new condo is a ground floor 2 b...</td>\n",
       "      <td>South Padre Island</td>\n",
       "      <td>https://www.airbnb.com/rooms/19020727?location...</td>\n",
       "    </tr>\n",
       "    <tr>\n",
       "      <th>2</th>\n",
       "      <td>3</td>\n",
       "      <td>Marlin Star Beachside Paradise</td>\n",
       "      <td>Short walk (3-4 minute) to the beach, SPI beac...</td>\n",
       "      <td>South Padre Island</td>\n",
       "      <td>https://www.airbnb.com/rooms/18627929?location...</td>\n",
       "    </tr>\n",
       "    <tr>\n",
       "      <th>3</th>\n",
       "      <td>4</td>\n",
       "      <td>Ocean is the Backyard!</td>\n",
       "      <td>In the center of town: \\nWithin Walking Distan...</td>\n",
       "      <td>South Padre Island</td>\n",
       "      <td>https://www.airbnb.com/rooms/11588454?location...</td>\n",
       "    </tr>\n",
       "    <tr>\n",
       "      <th>4</th>\n",
       "      <td>5</td>\n",
       "      <td>Siesta by the Sea Shore with a private pool</td>\n",
       "      <td>My place is close to family-friendly activitie...</td>\n",
       "      <td>South Padre Island</td>\n",
       "      <td>https://www.airbnb.com/rooms/14024642?location...</td>\n",
       "    </tr>\n",
       "    <tr>\n",
       "      <th>5</th>\n",
       "      <td>6</td>\n",
       "      <td>Private Room in The Austin Oasis House Lake Tr...</td>\n",
       "      <td>Welcome to the Lake Travis area! You are going...</td>\n",
       "      <td>Austin</td>\n",
       "      <td>https://www.airbnb.com/rooms/15903071?location...</td>\n",
       "    </tr>\n",
       "    <tr>\n",
       "      <th>6</th>\n",
       "      <td>7</td>\n",
       "      <td>Island Hideaway</td>\n",
       "      <td>Fully equipped kitchenette suite in 1/2 of hou...</td>\n",
       "      <td>Port Aransas</td>\n",
       "      <td>https://www.airbnb.com/rooms/17193877?location...</td>\n",
       "    </tr>\n",
       "  </tbody>\n",
       "</table>\n",
       "</div>"
      ],
      "text/plain": [
       "   Ranking                                              title  \\\n",
       "0        1  3BR Great Location Peaceful and Centric Apartment   \n",
       "1        2                                  Pueblos del Padre   \n",
       "2        3                     Marlin Star Beachside Paradise   \n",
       "3        4                             Ocean is the Backyard!   \n",
       "4        5        Siesta by the Sea Shore with a private pool   \n",
       "5        6  Private Room in The Austin Oasis House Lake Tr...   \n",
       "6        7                                    Island Hideaway   \n",
       "\n",
       "                                         description                city  \\\n",
       "0  Our 3 bedroom family condo is very spacious, t...  South Padre Island   \n",
       "1  This beautiful new condo is a ground floor 2 b...  South Padre Island   \n",
       "2  Short walk (3-4 minute) to the beach, SPI beac...  South Padre Island   \n",
       "3  In the center of town: \\nWithin Walking Distan...  South Padre Island   \n",
       "4  My place is close to family-friendly activitie...  South Padre Island   \n",
       "5  Welcome to the Lake Travis area! You are going...              Austin   \n",
       "6  Fully equipped kitchenette suite in 1/2 of hou...        Port Aransas   \n",
       "\n",
       "                                                 url  \n",
       "0  https://www.airbnb.com/rooms/15927683?location...  \n",
       "1  https://www.airbnb.com/rooms/19020727?location...  \n",
       "2  https://www.airbnb.com/rooms/18627929?location...  \n",
       "3  https://www.airbnb.com/rooms/11588454?location...  \n",
       "4  https://www.airbnb.com/rooms/14024642?location...  \n",
       "5  https://www.airbnb.com/rooms/15903071?location...  \n",
       "6  https://www.airbnb.com/rooms/17193877?location...  "
      ]
     },
     "execution_count": 51,
     "metadata": {},
     "output_type": "execute_result"
    }
   ],
   "source": [
    "df_3=pd.DataFrame()\n",
    "\n",
    "for tup in max_heap_s:\n",
    "    idx=tup[1]\n",
    "    row=df_2.loc[[idx],]\n",
    "    df_3=pd.concat([df_3,row])\n",
    "    \n",
    "df_3=df_3.filter(['title','description','city','url'], axis=1)\n",
    "df_3=df_3.drop_duplicates(subset=['description','title'])\n",
    "df_3=df_3.reset_index(drop=True)\n",
    "r=list(range(1,len(df_3)+1))\n",
    "df_3.insert(0,'Ranking',r)\n",
    "df_3"
   ]
  },
  {
   "cell_type": "markdown",
   "metadata": {},
   "source": [
    "# Bonus Step: Make a nice visualization!\n",
    "\n"
   ]
  },
  {
   "cell_type": "markdown",
   "metadata": {},
   "source": [
    "In this part, we create our map. First of all, will be required to insert the coordinates, latitude and longitude as a pair, of th centre of the circle and then will be request to insert the radius of the circle. "
   ]
  },
  {
   "cell_type": "code",
   "execution_count": 52,
   "metadata": {},
   "outputs": [
    {
     "name": "stdout",
     "output_type": "stream",
     "text": [
      "Please enter the Latitude and the Longitude: 32.892048 -96.871741\n",
      "Please enter the radius (m):2000\n"
     ]
    }
   ],
   "source": [
    "location=list(map(float, input('Please enter the Latitude and the Longitude: ').split()))\n",
    "rad=int(input('Please enter the radius (m):'))"
   ]
  },
  {
   "cell_type": "code",
   "execution_count": 53,
   "metadata": {},
   "outputs": [],
   "source": [
    "my_values1 = df.filter([\"latitude\",\"longitude\",'average_rate_per_night','url','title'])"
   ]
  },
  {
   "cell_type": "markdown",
   "metadata": {},
   "source": [
    "Now we removed all duplicates and rows that have a *na*. We converted the dataframe in a list."
   ]
  },
  {
   "cell_type": "code",
   "execution_count": 54,
   "metadata": {},
   "outputs": [],
   "source": [
    "my_values = my_values1.dropna(how = \"any\")\n",
    "my_values= my_values.drop_duplicates()"
   ]
  },
  {
   "cell_type": "code",
   "execution_count": 55,
   "metadata": {},
   "outputs": [],
   "source": [
    "locations = my_values[['latitude', 'longitude','average_rate_per_night','url','title']]\n",
    "locationlist = locations.values.tolist()"
   ]
  },
  {
   "cell_type": "markdown",
   "metadata": {},
   "source": [
    "Finally we created the map. First of all, we choosed as tiles *Stamen Terrain* and placed a blue marker and as icon a flag, for indicate the position that the user has insered.\n",
    "Than we added to the map a marker, each time the house is inside the circle. The markers have different colours: let *p* the average rate per night\n",
    "    \n",
    "    - *lightblue* if p<=30\n",
    "    - *green*     if 30<p<=50\n",
    "    - *orange*    if 50<p<=70\n",
    "    - *red*       if 70<p<=90\n",
    "    - *darkred*   if 90<p<=140\n",
    "    - *black*     if p>140\n",
    "    \n",
    "So they are divided by the price."
   ]
  },
  {
   "cell_type": "code",
   "execution_count": 56,
   "metadata": {
    "scrolled": true
   },
   "outputs": [],
   "source": [
    "map2 = folium.Map(location=location,tiles='Stamen Terrain', zoom_start=12)\n",
    "folium.Marker(location, icon=folium.Icon(color='blue', icon='flag')).add_to(map2)\n",
    "folium.Circle(location=location, radius=rad, color='#3186cc', fill=True, fill_color='#3186cc').add_to(map2)\n",
    "\n",
    "for l in locationlist:\n",
    "    point=[l[0],l[1]]\n",
    "    url=l[3]\n",
    "    title=l[4]\n",
    "    if distance.distance(location, point).m<rad:\n",
    "        p=int(l[2].replace('$',' '))\n",
    "        if p<=30:\n",
    "            color='lightblue'\n",
    "        if 30<p<=50:\n",
    "            color='green'\n",
    "        if 50<p<=70:\n",
    "            color='orange'\n",
    "        if 70<p<=90:\n",
    "            color='red'\n",
    "        if 90<p<=140:\n",
    "            color='darkred'\n",
    "        if p>=140:\n",
    "            color='black'\n",
    "        folium.Marker(point, icon=folium.Icon(color=color, icon='home'),tooltip='<b>'+title+'<b>',\n",
    "                      popup = folium.Popup(\"<a href=\" + url + \">\" + url + \" </a>\")).add_to(map2)\n",
    "        \n",
    "map2.save('Map.html')\n"
   ]
  }
 ],
 "metadata": {
  "kernelspec": {
   "display_name": "Python 3",
   "language": "python",
   "name": "python3"
  },
  "language_info": {
   "codemirror_mode": {
    "name": "ipython",
    "version": 3
   },
   "file_extension": ".py",
   "mimetype": "text/x-python",
   "name": "python",
   "nbconvert_exporter": "python",
   "pygments_lexer": "ipython3",
   "version": "3.6.5"
  }
 },
 "nbformat": 4,
 "nbformat_minor": 2
}
